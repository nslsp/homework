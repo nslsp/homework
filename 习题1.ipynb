{
 "cells": [
  {
   "cell_type": "markdown",
   "metadata": {},
   "source": [
    "#                                           numpy 练习题"
   ]
  },
  {
   "cell_type": "markdown",
   "metadata": {
    "collapsed": true
   },
   "source": [
    " "
   ]
  },
  {
   "cell_type": "markdown",
   "metadata": {},
   "source": [
    "### numpy 的array操作"
   ]
  },
  {
   "cell_type": "markdown",
   "metadata": {},
   "source": [
    "#### 1.导入numpy库"
   ]
  },
  {
   "cell_type": "code",
   "execution_count": 2,
   "metadata": {
    "collapsed": true
   },
   "outputs": [],
   "source": [
    "import numpy as np"
   ]
  },
  {
   "cell_type": "markdown",
   "metadata": {},
   "source": [
    "#### 2.建立一个一维数组 a 初始化为[4,5,6], (1)输出a 的类型（type）(2)输出a的各维度的大小（shape）(3)输出 a的第一个元素（值为4）"
   ]
  },
  {
   "cell_type": "code",
   "execution_count": 3,
   "metadata": {
    "collapsed": true
   },
   "outputs": [
    {
     "name": "stdout",
     "output_type": "stream",
     "text": [
      "类型为: <class 'numpy.ndarray'>\n",
      "维度为: (3,)\n",
      "第一个元素为: 4\n"
     ]
    }
   ],
   "source": [
    "# 创建一个一维数组 a，初始化为 [4, 5, 6]  \n",
    "a = np.array([4, 5, 6])  \n",
    "  \n",
    "# 输出a的类型（type）  \n",
    "print(\"类型为:\", type(a))  \n",
    "  \n",
    "# 输出a的各维度的大小（shape）  \n",
    "print(\"维度为:\", a.shape)  \n",
    "  \n",
    "# 输出a的第一个元素（值为4）  \n",
    "print(\"第一个元素为:\", a[0])"
   ]
  },
  {
   "cell_type": "markdown",
   "metadata": {},
   "source": [
    "#### 3.建立一个二维数组 b,初始化为 [ [4, 5, 6],[1, 2, 3]] (1)输出各维度的大小（shape）(2)输出 b(0,0)，b(0,1),b(1,1) 这三个元素（对应值分别为4,5,2）"
   ]
  },
  {
   "cell_type": "code",
   "execution_count": 4,
   "metadata": {
    "collapsed": true
   },
   "outputs": [
    {
     "name": "stdout",
     "output_type": "stream",
     "text": [
      "维度为: (2, 3)\n",
      "b(0,0): 4\n",
      "b(0,1): 5\n",
      "b(1,1): 2\n"
     ]
    }
   ],
   "source": [
    "# 创建一个二维数组 b，初始化为 [[4, 5, 6], [1, 2, 3]]  \n",
    "b = np.array([[4, 5, 6], [1, 2, 3]])  \n",
    "  \n",
    "# 输出b的各维度的大小（shape）  \n",
    "print(\"维度为:\", b.shape)  \n",
    "  \n",
    "# 输出 b(0,0)，b(0,1)，b(1,1) 这三个元素（对应值分别为4, 5, 2）  \n",
    "print(\"b(0,0):\", b[0, 0])  \n",
    "print(\"b(0,1):\", b[0, 1])  \n",
    "print(\"b(1,1):\", b[1, 1])"
   ]
  },
  {
   "cell_type": "markdown",
   "metadata": {},
   "source": [
    "#### 4.  (1)建立一个全0矩阵 a, 大小为 3x3; 类型为整型（提示: dtype = int）(2)建立一个全1矩阵b,大小为4x5;  (3)建立一个单位矩阵c ,大小为4x4; (4)生成一个随机数矩阵d,大小为 3x2."
   ]
  },
  {
   "cell_type": "code",
   "execution_count": 5,
   "metadata": {},
   "outputs": [],
   "source": [
    "# 建立一个全0矩阵 a, 大小为 3x3; 类型为整型（dtype = int）  \n",
    "a = np.zeros((3, 3), dtype=int)  \n",
    "  \n",
    "# 建立一个全1矩阵 b, 大小为 4x5  \n",
    "b = np.ones((4, 5))  \n",
    "  \n",
    "# 建立一个单位矩阵 c, 大小为 4x4  \n",
    "c = np.eye(4)  \n",
    "  \n",
    "# 生成一个随机数矩阵 d, 大小为 3x2  \n",
    "d = np.random.rand(3, 2)  "
   ]
  },
  {
   "cell_type": "markdown",
   "metadata": {},
   "source": [
    "#### 5. 建立一个数组 a,(值为[[1, 2, 3, 4], [5, 6, 7, 8], [9, 10, 11, 12]] ) ,(1)打印a; (2)输出  下标为(2,3),(0,0) 这两个数组元素的值"
   ]
  },
  {
   "cell_type": "code",
   "execution_count": 10,
   "metadata": {
    "collapsed": true
   },
   "outputs": [
    {
     "name": "stdout",
     "output_type": "stream",
     "text": [
      "a:\n",
      "[[ 1  2  3  4]\n",
      " [ 5  6  7  8]\n",
      " [ 9 10 11 12]]\n",
      "a(2, 3): 12\n",
      "a(0, 0): 1\n"
     ]
    }
   ],
   "source": [
    "# 建立数组 a\n",
    "a = np.array([[1, 2, 3, 4], [5, 6, 7, 8], [9, 10, 11, 12]])  \n",
    "  \n",
    "# 打印数组 a  \n",
    "print(\"a:\")  \n",
    "print(a)  \n",
    "  \n",
    "# 输出下标为 (2,3) 和 (0,0) 这两个数组元素的值  \n",
    "print(\"a(2, 3):\", a[2, 3])  \n",
    "print(\"a(0, 0):\", a[0, 0])"
   ]
  },
  {
   "cell_type": "markdown",
   "metadata": {},
   "source": [
    "#### 6.把上一题的 a数组的 0到1行 2到3列，放到b里面去，（此处不需要从新建立a,直接调用即可）(1),输出b;(2) 输出b 的（0,0）这个元素的值"
   ]
  },
  {
   "cell_type": "code",
   "execution_count": 9,
   "metadata": {
    "collapsed": true
   },
   "outputs": [
    {
     "name": "stdout",
     "output_type": "stream",
     "text": [
      "b:\n",
      "[[3 4]\n",
      " [7 8]]\n",
      "b(0, 0): 3\n"
     ]
    }
   ],
   "source": [
    "a = np.array([[1, 2, 3, 4], [5, 6, 7, 8], [9, 10, 11, 12]])  \n",
    "  \n",
    "# 把a数组的0到1行（包含0和1），2到3列（包含2和3），放到b里面去  \n",
    "b = a[0:2, 2:4] \n",
    "  \n",
    "# 输出b  \n",
    "print(\"b:\")  \n",
    "print(b)  \n",
    "  \n",
    "# 输出b的(0,0)这个元素的值  \n",
    "print(\"b(0, 0):\", b[0, 0])"
   ]
  },
  {
   "cell_type": "markdown",
   "metadata": {},
   "source": [
    " #### 7. 把第5题中数组a的最后两行所有元素放到 c中，（提示： a[1:2, :]）(1)输出 c ; (2) 输出 c 中第一行的最后一个元素（提示，使用 -1表示最后一个元素）"
   ]
  },
  {
   "cell_type": "code",
   "execution_count": 12,
   "metadata": {
    "collapsed": true
   },
   "outputs": [
    {
     "name": "stdout",
     "output_type": "stream",
     "text": [
      "c:\n",
      "[[ 5  6  7  8]\n",
      " [ 9 10 11 12]]\n",
      "c(1, 3): 8\n"
     ]
    }
   ],
   "source": [
    "a = np.array([[1, 2, 3, 4], [5, 6, 7, 8], [9, 10, 11, 12]])  \n",
    "  \n",
    "# 把数组a的最后两行所有元素放到c中  \n",
    "c = a[-2:, :]\n",
    "  \n",
    "# 输出c  \n",
    "print(\"c:\")  \n",
    "print(c)  \n",
    "  \n",
    "# 输出c中第一行的最后一个元素  \n",
    "print(\"c(1, 3):\", c[0, -1])"
   ]
  },
  {
   "cell_type": "markdown",
   "metadata": {},
   "source": [
    "#### 8.建立数组a,初始化a为[[1, 2], [3, 4], [5, 6]]，输出 （0,0）（1,1）（2,0）这三个元素（提示： 使用 print(a[[0, 1, 2], [0, 1, 0]]) ）"
   ]
  },
  {
   "cell_type": "code",
   "execution_count": 13,
   "metadata": {
    "collapsed": true
   },
   "outputs": [
    {
     "name": "stdout",
     "output_type": "stream",
     "text": [
      "[1 4 5]\n"
     ]
    }
   ],
   "source": [
    "# 建立数组a\n",
    "a = np.array([[1, 2], [3, 4], [5, 6]])  \n",
    "  \n",
    "# 输出(0,0)，(1,1)，(2,0)这三个元素  \n",
    "rows = [0, 1, 2]  # 行索引数组  \n",
    "cols = [0, 1, 0]  # 列索引数组  \n",
    "selected_elements = a[rows, cols]  \n",
    "  \n",
    "# 输出选定的元素  \n",
    "print(selected_elements)\n"
   ]
  },
  {
   "cell_type": "markdown",
   "metadata": {},
   "source": [
    "#### 9.建立矩阵a ,初始化为[[1, 2, 3], [4, 5, 6], [7, 8, 9], [10, 11, 12]]，输出(0,0),(1,2),(2,0),(3,1) (提示使用 b = np.array([0, 2, 0, 1])                     print(a[np.arange(4), b]))"
   ]
  },
  {
   "cell_type": "code",
   "execution_count": 15,
   "metadata": {
    "collapsed": true
   },
   "outputs": [
    {
     "name": "stdout",
     "output_type": "stream",
     "text": [
      "[ 1  6  7 11]\n"
     ]
    }
   ],
   "source": [
    "# 建立矩阵a \n",
    "a = np.array([[1, 2, 3], [4, 5, 6], [7, 8, 9], [10, 11, 12]])  \n",
    "  \n",
    "# 定义列索引数组  \n",
    "b = np.array([0, 2, 0, 1])  \n",
    "  \n",
    "# 创建行索引数组，使用np.arange(4)生成一个从0到3的整数数组  \n",
    "rows = np.arange(4)  \n",
    "  \n",
    "# 使用高级索引提取元素  \n",
    "selected_elements = a[rows, b]  \n",
    "  \n",
    "# 输出选定的元素  \n",
    "print(selected_elements)"
   ]
  },
  {
   "cell_type": "markdown",
   "metadata": {},
   "source": [
    "#### 10.对9 中输出的那四个元素，每个都加上10，然后重新输出矩阵a.(提示： a[np.arange(4), b] += 10 ）"
   ]
  },
  {
   "cell_type": "code",
   "execution_count": 16,
   "metadata": {
    "collapsed": true
   },
   "outputs": [
    {
     "name": "stdout",
     "output_type": "stream",
     "text": [
      "[[11  2  3]\n",
      " [ 4  5 16]\n",
      " [17  8  9]\n",
      " [10 21 12]]\n"
     ]
    }
   ],
   "source": [
    "# 建立矩阵a\n",
    "a = np.array([[1, 2, 3], [4, 5, 6], [7, 8, 9], [10, 11, 12]])  \n",
    "  \n",
    "# 定义列索引数组  \n",
    "b = np.array([0, 2, 0, 1])  \n",
    "  \n",
    "# 使用高级索引将指定位置的元素加上10  \n",
    "a[np.arange(4), b] += 10  \n",
    "  \n",
    "# 重新输出修改后的矩阵a  \n",
    "print(a)"
   ]
  },
  {
   "cell_type": "markdown",
   "metadata": {},
   "source": [
    "### array 的数学运算"
   ]
  },
  {
   "cell_type": "markdown",
   "metadata": {},
   "source": [
    "#### 11.  执行 x = np.array([1, 2])，然后输出 x 的数据类型"
   ]
  },
  {
   "cell_type": "code",
   "execution_count": 17,
   "metadata": {
    "collapsed": true
   },
   "outputs": [
    {
     "name": "stdout",
     "output_type": "stream",
     "text": [
      "int32\n"
     ]
    }
   ],
   "source": [
    "# 执行 x = np.array([1, 2])  \n",
    "x = np.array([1, 2])  \n",
    "  \n",
    "# 输出 x 的数据类型  \n",
    "print(x.dtype)"
   ]
  },
  {
   "cell_type": "markdown",
   "metadata": {},
   "source": [
    "#### 12.执行 x = np.array([1.0, 2.0]) ，然后输出 x 的数据类类型"
   ]
  },
  {
   "cell_type": "code",
   "execution_count": 18,
   "metadata": {
    "collapsed": true
   },
   "outputs": [
    {
     "name": "stdout",
     "output_type": "stream",
     "text": [
      "float64\n"
     ]
    }
   ],
   "source": [
    "# 执行 x = np.array([1.0, 2.0])  \n",
    "x = np.array([1.0, 2.0])  \n",
    "  \n",
    "# 输出 x 的数据类型  \n",
    "print(x.dtype)"
   ]
  },
  {
   "cell_type": "markdown",
   "metadata": {},
   "source": [
    "#### 13.执行 x = np.array([[1, 2], [3, 4]], dtype=np.float64) ，y = np.array([[5, 6], [7, 8]], dtype=np.float64)，然后输出 x+y ,和 np.add(x,y)"
   ]
  },
  {
   "cell_type": "code",
   "execution_count": 19,
   "metadata": {
    "collapsed": true
   },
   "outputs": [
    {
     "name": "stdout",
     "output_type": "stream",
     "text": [
      "[[ 6.  8.]\n",
      " [10. 12.]]\n",
      "[[ 6.  8.]\n",
      " [10. 12.]]\n"
     ]
    }
   ],
   "source": [
    "# 执行 x = np.array([[1, 2], [3, 4]], dtype=np.float64)  \n",
    "x = np.array([[1, 2], [3, 4]], dtype=np.float64)  \n",
    "  \n",
    "# 执行 y = np.array([[5, 6], [7, 8]], dtype=np.float64)  \n",
    "y = np.array([[5, 6], [7, 8]], dtype=np.float64)  \n",
    "  \n",
    "# 输出 x + y 的结果  \n",
    "print(x + y)  \n",
    "  \n",
    "# 输出 np.add(x, y) 的结果  \n",
    "print(np.add(x, y))"
   ]
  },
  {
   "cell_type": "markdown",
   "metadata": {},
   "source": [
    "#### 14. 利用 13题目中的x,y 输出 x-y 和 np.subtract(x,y)"
   ]
  },
  {
   "cell_type": "code",
   "execution_count": 21,
   "metadata": {
    "collapsed": true
   },
   "outputs": [
    {
     "name": "stdout",
     "output_type": "stream",
     "text": [
      "[[-4. -4.]\n",
      " [-4. -4.]]\n",
      "[[-4. -4.]\n",
      " [-4. -4.]]\n"
     ]
    }
   ],
   "source": [
    "# 执行 x = np.array([[1, 2], [3, 4]], dtype=np.float64)  \n",
    "x = np.array([[1, 2], [3, 4]], dtype=np.float64)  \n",
    "  \n",
    "# 执行 y = np.array([[5, 6], [7, 8]], dtype=np.float64)  \n",
    "y = np.array([[5, 6], [7, 8]], dtype=np.float64)  \n",
    "  \n",
    "# 输出 x - y 的结果  \n",
    "print(x - y)  \n",
    "  \n",
    "# 输出 np.subtract(x, y) 的结果  \n",
    "print(np.subtract(x, y))"
   ]
  },
  {
   "cell_type": "markdown",
   "metadata": {},
   "source": [
    "#### 15. 利用13题目中的x，y 输出 x*y ,和 np.multiply(x, y) 还有  np.dot(x,y),比较差异。然后自己换一个不是方阵的试试。"
   ]
  },
  {
   "cell_type": "code",
   "execution_count": 22,
   "metadata": {
    "collapsed": true
   },
   "outputs": [
    {
     "name": "stdout",
     "output_type": "stream",
     "text": [
      "[[ 5. 12.]\n",
      " [21. 32.]]\n",
      "[[ 5. 12.]\n",
      " [21. 32.]]\n",
      "[[19. 22.]\n",
      " [43. 50.]]\n"
     ]
    }
   ],
   "source": [
    "# 执行 x = np.array([[1, 2], [3, 4]], dtype=np.float64)  \n",
    "x = np.array([[1, 2], [3, 4]], dtype=np.float64)  \n",
    "  \n",
    "# 执行 y = np.array([[5, 6], [7, 8]], dtype=np.float64)  \n",
    "y = np.array([[5, 6], [7, 8]], dtype=np.float64)  \n",
    "  \n",
    "# 输出 x * y 的结果  \n",
    "print(x * y)  \n",
    "  \n",
    "# 输出 np.multiply(x, y)  np.dot(x, y)的结果  \n",
    "print(np.multiply(x, y))\n",
    "print(np.dot(x, y))"
   ]
  },
  {
   "cell_type": "markdown",
   "metadata": {},
   "source": [
    "#### 16. 利用13题目中的x,y,输出 x / y .(提示 ： 使用函数 np.divide())"
   ]
  },
  {
   "cell_type": "code",
   "execution_count": 24,
   "metadata": {},
   "outputs": [
    {
     "name": "stdout",
     "output_type": "stream",
     "text": [
      "[[0.2        0.33333333]\n",
      " [0.42857143 0.5       ]]\n",
      "[[0.2        0.33333333]\n",
      " [0.42857143 0.5       ]]\n"
     ]
    }
   ],
   "source": [
    "# 执行 x = np.array([[1, 2], [3, 4]], dtype=np.float64)  \n",
    "x = np.array([[1, 2], [3, 4]], dtype=np.float64)  \n",
    "  \n",
    "# 执行 y = np.array([[5, 6], [7, 8]], dtype=np.float64)  \n",
    "y = np.array([[5, 6], [7, 8]], dtype=np.float64)  \n",
    "  \n",
    "# 输出 x / y 的结果  \n",
    "print(x / y)  \n",
    "  \n",
    "# 输出 np.divide(x, y) 的结果  \n",
    "print(np.divide(x, y))"
   ]
  },
  {
   "cell_type": "markdown",
   "metadata": {},
   "source": [
    "#### 17. 利用13题目中的x,输出 x的 开方。(提示： 使用函数 np.sqrt() )"
   ]
  },
  {
   "cell_type": "code",
   "execution_count": 25,
   "metadata": {
    "collapsed": true
   },
   "outputs": [
    {
     "name": "stdout",
     "output_type": "stream",
     "text": [
      "[[1.         1.41421356]\n",
      " [1.73205081 2.        ]]\n"
     ]
    }
   ],
   "source": [
    "# 执行 x = np.array([[1, 2], [3, 4]], dtype=np.float64)  \n",
    "x = np.array([[1, 2], [3, 4]], dtype=np.float64)  \n",
    "  \n",
    "# 执行 y = np.array([[5, 6], [7, 8]], dtype=np.float64)  \n",
    "y = np.array([[5, 6], [7, 8]], dtype=np.float64)   \n",
    "  \n",
    "# 输出 np.sqrt(x, y) 的结果  \n",
    "print(np.sqrt(x, y))"
   ]
  },
  {
   "cell_type": "markdown",
   "metadata": {},
   "source": [
    "#### 18.利用13题目中的x,y ,执行 print(x.dot(y)) 和 print(np.dot(x,y))"
   ]
  },
  {
   "cell_type": "code",
   "execution_count": 26,
   "metadata": {
    "collapsed": true
   },
   "outputs": [
    {
     "name": "stdout",
     "output_type": "stream",
     "text": [
      "[[19. 22.]\n",
      " [43. 50.]]\n",
      "[[19. 22.]\n",
      " [43. 50.]]\n"
     ]
    }
   ],
   "source": [
    "# 执行 x = np.array([[1, 2], [3, 4]], dtype=np.float64)  \n",
    "x = np.array([[1, 2], [3, 4]], dtype=np.float64)  \n",
    "  \n",
    "# 执行 y = np.array([[5, 6], [7, 8]], dtype=np.float64)  \n",
    "y = np.array([[5, 6], [7, 8]], dtype=np.float64)  \n",
    "  \n",
    "# 输出 \n",
    "print(x.dot(y))\n",
    "print(np.dot(x, y))"
   ]
  },
  {
   "cell_type": "markdown",
   "metadata": {},
   "source": [
    "##### 19.利用13题目中的 x,进行求和。提示：输出三种求和 (1)print(np.sum(x)):   (2)print(np.sum(x，axis =0 ));   (3)print(np.sum(x,axis = 1))"
   ]
  },
  {
   "cell_type": "code",
   "execution_count": 27,
   "metadata": {
    "collapsed": true
   },
   "outputs": [
    {
     "name": "stdout",
     "output_type": "stream",
     "text": [
      "10.0\n",
      "[4. 6.]\n",
      "[3. 7.]\n"
     ]
    }
   ],
   "source": [
    "# 执行 x = np.array([[1, 2], [3, 4]], dtype=np.float64)  \n",
    "x = np.array([[1, 2], [3, 4]], dtype=np.float64)  \n",
    "  \n",
    "# 执行 y = np.array([[5, 6], [7, 8]], dtype=np.float64)  \n",
    "y = np.array([[5, 6], [7, 8]], dtype=np.float64)  \n",
    "\n",
    "# 输出\n",
    "print(np.sum(x))\n",
    "print(np.sum(x, axis = 0))\n",
    "print(np.sum(x, axis = 1))"
   ]
  },
  {
   "cell_type": "markdown",
   "metadata": {},
   "source": [
    "#### 20.利用13题目中的 x,进行求平均数（提示：输出三种平均数(1)print(np.mean(x)) (2)print(np.mean(x,axis = 0))(3) print(np.mean(x,axis =1))）"
   ]
  },
  {
   "cell_type": "code",
   "execution_count": 28,
   "metadata": {
    "collapsed": true
   },
   "outputs": [
    {
     "name": "stdout",
     "output_type": "stream",
     "text": [
      "2.5\n",
      "[2. 3.]\n",
      "[1.5 3.5]\n"
     ]
    }
   ],
   "source": [
    "# 执行 x = np.array([[1, 2], [3, 4]], dtype=np.float64)  \n",
    "x = np.array([[1, 2], [3, 4]], dtype=np.float64)  \n",
    "  \n",
    "# 执行 y = np.array([[5, 6], [7, 8]], dtype=np.float64)  \n",
    "y = np.array([[5, 6], [7, 8]], dtype=np.float64)  \n",
    "  \n",
    "# 输出\n",
    "print(np.mean(x))\n",
    "print(np.mean(x, axis = 0))\n",
    "print(np.mean(x, axis = 1))"
   ]
  },
  {
   "cell_type": "markdown",
   "metadata": {},
   "source": [
    "#### 21.利用13题目中的x，对x 进行矩阵转置，然后输出转置后的结果，（提示： x.T 表示对 x 的转置）"
   ]
  },
  {
   "cell_type": "code",
   "execution_count": 29,
   "metadata": {
    "collapsed": true
   },
   "outputs": [
    {
     "name": "stdout",
     "output_type": "stream",
     "text": [
      "[[1. 3.]\n",
      " [2. 4.]]\n"
     ]
    }
   ],
   "source": [
    "# 执行 x = np.array([[1, 2], [3, 4]], dtype=np.float64)  \n",
    "x = np.array([[1, 2], [3, 4]], dtype=np.float64)  \n",
    "  \n",
    "# 执行 y = np.array([[5, 6], [7, 8]], dtype=np.float64)  \n",
    "y = np.array([[5, 6], [7, 8]], dtype=np.float64)  \n",
    "  \n",
    "# 输出\n",
    "print(x.T)"
   ]
  },
  {
   "cell_type": "markdown",
   "metadata": {
    "collapsed": true
   },
   "source": [
    "#### 22.利用13题目中的x,求e的指数（提示： 函数 np.exp()）"
   ]
  },
  {
   "cell_type": "code",
   "execution_count": 30,
   "metadata": {
    "collapsed": true
   },
   "outputs": [
    {
     "name": "stdout",
     "output_type": "stream",
     "text": [
      "[[ 2.71828183  7.3890561 ]\n",
      " [20.08553692 54.59815003]]\n"
     ]
    }
   ],
   "source": [
    "# 执行 x = np.array([[1, 2], [3, 4]], dtype=np.float64)  \n",
    "x = np.array([[1, 2], [3, 4]], dtype=np.float64)  \n",
    "  \n",
    "# 执行 y = np.array([[5, 6], [7, 8]], dtype=np.float64)  \n",
    "y = np.array([[5, 6], [7, 8]], dtype=np.float64)  \n",
    "  \n",
    "# 输出\n",
    "print(np.exp(x))"
   ]
  },
  {
   "cell_type": "markdown",
   "metadata": {},
   "source": [
    "#### 23.利用13题目中的 x,求值最大的下标（提示(1)print(np.argmax(x)) ,(2) print(np.argmax(x, axis =0))(3)print(np.argmax(x),axis =1))"
   ]
  },
  {
   "cell_type": "code",
   "execution_count": 31,
   "metadata": {},
   "outputs": [
    {
     "name": "stdout",
     "output_type": "stream",
     "text": [
      "3\n",
      "[1 1]\n",
      "[1 1]\n"
     ]
    }
   ],
   "source": [
    "# 执行 x = np.array([[1, 2], [3, 4]], dtype=np.float64)  \n",
    "x = np.array([[1, 2], [3, 4]], dtype=np.float64)  \n",
    "  \n",
    "# 执行 y = np.array([[5, 6], [7, 8]], dtype=np.float64)  \n",
    "y = np.array([[5, 6], [7, 8]], dtype=np.float64)  \n",
    "  \n",
    "# 输出\n",
    "print(np.argmax(x))\n",
    "print(np.argmax(x, axis = 0))\n",
    "print(np.argmax(x, axis = 1))"
   ]
  },
  {
   "cell_type": "markdown",
   "metadata": {},
   "source": [
    "#### 24,画图，y=x*x 其中 x = np.arange(0, 100, 0.1) （提示这里用到  matplotlib.pyplot 库）"
   ]
  },
  {
   "cell_type": "code",
   "execution_count": 32,
   "metadata": {
    "collapsed": true
   },
   "outputs": [
    {
     "data": {
      "image/png": "[encoded data removed]",
      "text/plain": [
       "<Figure size 640x480 with 1 Axes>"
      ]
     },
     "metadata": {},
     "output_type": "display_data"
    }
   ],
   "source": [
    "import matplotlib.pyplot as plt  \n",
    "\n",
    "x = np.arange(0, 100, 0.1)  \n",
    "y = x ** 2  \n",
    "\n",
    "plt.figure()  \n",
    "  \n",
    "# 绘制图形  \n",
    "plt.plot(x, y)  \n",
    "  \n",
    "# 设置标题和坐标轴标签  \n",
    "plt.title('y = x^2')  \n",
    "plt.xlabel('x')  \n",
    "plt.ylabel('y')  \n",
    "\n",
    "plt.grid(True)   \n",
    "plt.show()"
   ]
  },
  {
   "cell_type": "markdown",
   "metadata": {},
   "source": [
    "#### 25.画图。画正弦函数和余弦函数， x = np.arange(0, 3 * np.pi, 0.1)(提示：这里用到 np.sin() np.cos() 函数和 matplotlib.pyplot 库)"
   ]
  },
  {
   "cell_type": "code",
   "execution_count": 33,
   "metadata": {
    "collapsed": true
   },
   "outputs": [
    {
     "data": {
      "image/png": "[encoded data removed]",
      "text/plain": [
       "<Figure size 640x480 with 1 Axes>"
      ]
     },
     "metadata": {},
     "output_type": "display_data"
    }
   ],
   "source": [
    "x = np.arange(0, 3 * np.pi, 0.1)  \n",
    "y_sin = np.sin(x)  \n",
    "y_cos = np.cos(x)  \n",
    "  \n",
    "# 创建一个新的图形  \n",
    "plt.figure()  \n",
    "  \n",
    "plt.plot(x, y_sin, label='sin(x)')  \n",
    "plt.plot(x, y_cos, label='cos(x)')  \n",
    "  \n",
    "# 设置标题和坐标轴标签  \n",
    "plt.title('Sine and Cosine Functions')  \n",
    "plt.xlabel('x')  \n",
    "plt.ylabel('y')  \n",
    "  \n",
    " \n",
    "plt.legend()    \n",
    "plt.grid(True)  \n",
    "plt.show()"
   ]
  }
 ],
 "metadata": {
  "anaconda-cloud": {},
  "kernelspec": {
   "display_name": "Python 3",
   "language": "python",
   "name": "python3"
  },
  "language_info": {
   "codemirror_mode": {
    "name": "ipython",
    "version": 3
   },
   "file_extension": ".py",
   "mimetype": "text/x-python",
   "name": "python",
   "nbconvert_exporter": "python",
   "pygments_lexer": "ipython3",
   "version": "3.10.5"
  }
 },
 "nbformat": 4,
 "nbformat_minor": 1
}
